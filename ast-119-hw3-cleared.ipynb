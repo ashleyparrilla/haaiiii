{
 "cells": [
  {
   "cell_type": "code",
   "execution_count": null,
   "metadata": {},
   "outputs": [],
   "source": [
    "%matplotlib inline\n",
    "import numpy as np\n",
    "import matplotlib.pyplot as plt"
   ]
  },
  {
   "cell_type": "code",
   "execution_count": null,
   "metadata": {},
   "outputs": [],
   "source": [
    "def function_for_roots(x):\n",
    "    return 1.01*x**2 - 3.04 *x +2.07"
   ]
  },
  {
   "cell_type": "code",
   "execution_count": null,
   "metadata": {},
   "outputs": [],
   "source": [
    "x = np.linspace(0,3,1000)"
   ]
  },
  {
   "cell_type": "code",
   "execution_count": null,
   "metadata": {},
   "outputs": [],
   "source": [
    "plt.plot(x, function_for_roots(x))\n",
    "f_min = function_for_roots(x[0])\n",
    "f_max = function_for_roots(1.5)\n",
    "plt.axhline(0.0,linestyle=':',color='k', alpha=.3)\n",
    "plt.plot([0], f_min, marker='o', color='orange')\n",
    "plt.plot(1.5, f_max, marker='o', color='orange')\n",
    "f_max2 = function_for_roots(x[-1])\n",
    "#plt.plot([-1], f_max2, marker='o', color='orange')\n",
    "#plt.plot([0], f_max, marker='o', color='orange')\n",
    "plt.xlabel('x')\n",
    "plt.ylabel('y')\n",
    "plt.xlim(0, 3)\n",
    "plt.ylim(-.5, 2.1)"
   ]
  },
  {
   "cell_type": "code",
   "execution_count": null,
   "metadata": {},
   "outputs": [],
   "source": [
    "def quadratic(a,b,c):\n",
    "    (-b + np.sqrt(b**2 -4*a*c))/ (2*a)\n",
    "    \n",
    "    return(-b +np.sqrt(b**2 = 4*a*c)) / (2*a), \\\n",
    "            (-b - np.sqrt(b**2 = 4*a*c)) / (2*a)"
   ]
  },
  {
   "cell_type": "code",
   "execution_count": null,
   "metadata": {},
   "outputs": [],
   "source": [
    "quadratic(1.01, -3.04, 2.07)"
   ]
  },
  {
   "cell_type": "code",
   "execution_count": null,
   "metadata": {},
   "outputs": [],
   "source": [
    "def check_initial_values(f, x_min, x_max, tol):\n",
    "    y_min = f(x_min)\n",
    "    y_max = f(x_max)\n",
    "    \n",
    "    if y_min*y_max >= 0.0:\n",
    "        print(\"i wont ever cross zero\")\n",
    "        return 0\n",
    "    \n",
    "    if (np.fabs(y_min)< tol):\n",
    "        return 1\n",
    "    \n",
    "    if (np.fabs(y_max)< tol):\n",
    "        return 2\n",
    "    \n",
    "    return 3"
   ]
  },
  {
   "cell_type": "code",
   "execution_count": null,
   "metadata": {},
   "outputs": [],
   "source": [
    "def bisection_root_finding(f, x_min_start, x_max_start, tol):\n",
    "    \n",
    "    x_min = x_min_start\n",
    "    x_max = x_max_start\n",
    "    x_mid = 0.0\n",
    "    \n",
    "    y_min = f(x_min)\n",
    "    y_max = f(x_max)\n",
    "    y_mid = 0.0\n",
    "    \n",
    "    imax = 10000  #max number of times for finding the root\n",
    "    i = 0\n",
    "    \n",
    "    flag = check_initial_values(f, x_min, x_max, tol)\n",
    "    \n",
    "    if (flag == 0):\n",
    "        raise ValueError('initial values are invalid, no root is between the two boundaries')  \n",
    "    \n",
    "    if (flag ==1):\n",
    "        return x_min\n",
    "    \n",
    "    if (flag ==2):\n",
    "        return x_max\n",
    "    \n",
    "    flag = 1\n",
    "    \n",
    "    while (flag):   #while flag value is still 1, we will run this loop\n",
    "        x_mid = .5 * (x_min +x_max)\n",
    "        y_mid = f(x_mid)\n",
    "        \n",
    "        if (np.fabs(y_mid)<tol):\n",
    "            flag = 0\n",
    "        else:\n",
    "            if (f(x_min)*f(x_mid)>0):\n",
    "                x_min = x_mid\n",
    "            else:\n",
    "                x_max = x_mid\n",
    "                \n",
    "        print(x_min, f(x_min), x_max, f(x_max))\n",
    "    \n",
    "        i += 1\n",
    "    \n",
    "        if (i >= imax):\n",
    "            raise StopIteration('stopped iterating')\n",
    "        \n",
    "    return x_mid\n",
    "        \n",
    "        \n",
    "        \n",
    "        "
   ]
  },
  {
   "cell_type": "code",
   "execution_count": null,
   "metadata": {},
   "outputs": [],
   "source": [
    "x_min = 0.0\n",
    "x_max = 1.5\n",
    "tolerance = 1.0e-6\n",
    "\n",
    "print(x_min, function_for_roots(x_min))\n",
    "print(x_max, function_for_roots(x_max))\n",
    "x_root = bisection_root_finding(function, x_min, x_max, tolerance)\n",
    "y_root = function_for_roots(x_roots)\n",
    "\n",
    "x = \"root found with y(%f)= %f\" %(x_root, y_root)"
   ]
  },
  {
   "cell_type": "code",
   "execution_count": null,
   "metadata": {},
   "outputs": [],
   "source": []
  }
 ],
 "metadata": {
  "kernelspec": {
   "display_name": "Python 3",
   "language": "python",
   "name": "python3"
  },
  "language_info": {
   "codemirror_mode": {
    "name": "ipython",
    "version": 3
   },
   "file_extension": ".py",
   "mimetype": "text/x-python",
   "name": "python",
   "nbconvert_exporter": "python",
   "pygments_lexer": "ipython3",
   "version": "3.6.5"
  }
 },
 "nbformat": 4,
 "nbformat_minor": 2
}
